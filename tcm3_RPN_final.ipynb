{
 "cells": [
  {
   "cell_type": "code",
   "execution_count": 1,
   "metadata": {},
   "outputs": [],
   "source": [
    "\"\"\"Headers\"\"\"\n",
    "\n",
    "from __future__ import print_function\n",
    "from PIL import Image\n",
    "import os\n",
    "import os.path\n",
    "import numpy as np\n",
    "import sys\n",
    "import math\n",
    "import time\n",
    "import pickle\n",
    "import numpy.random\n",
    "\n",
    "import torch.utils.data as data\n",
    "from torchvision.datasets.utils import download_url, check_integrity\n",
    "\n",
    "import csv\n",
    "import copy\n",
    "%matplotlib inline\n",
    "import matplotlib\n",
    "import matplotlib.pyplot as plt\n",
    "import numpy as np\n",
    "import pandas as pd\n",
    "import os.path\n",
    "import sys\n",
    "import torch\n",
    "import torch.utils.data\n",
    "import torchvision\n",
    "import torchvision.transforms as transforms\n",
    "\n",
    "import cv2\n",
    "\n",
    "from torch.autograd import Variable\n",
    "import torch.nn as nn\n",
    "import torch.nn.functional as F\n",
    "\n",
    "from boxplot import *\n",
    "from coco_dict import *"
   ]
  },
  {
   "cell_type": "code",
   "execution_count": 2,
   "metadata": {},
   "outputs": [
    {
     "name": "stdout",
     "output_type": "stream",
     "text": [
      "(101,)\n",
      "Ttrain set size: 101\n",
      "Val set size: 21\n",
      "Loading Dataset took:  87.77257585525513  seconds\n"
     ]
    }
   ],
   "source": [
    "from datasetloader import *\n",
    "# ---------------------\n",
    "\n",
    "train_transform = transforms.Compose([\n",
    "                transforms.ToTensor(),\n",
    "                transforms.Normalize((0.5,0.5,0.5), (0.5,0.5,0.5))\n",
    "                ])\n",
    "test_transform = None\n",
    "# ---------------------\n",
    "st_time = time.time()\n",
    "\n",
    "#boxParams = [[8, 0.5], [8, 1.], [8, 2], [16, 0.5], [16, 1.], [16, 2.], [32, 0.5], [32, 1.], [32, 2.]]\n",
    "boxParams = [[16, 0.5], [16, 1.], [16, 2], [32, 0.5], [32, 1.], [32, 2.], [64, 0.5], [64, 1.], [64, 2.]]\n",
    "#boxParams = [[32, 0.5], [32, 1.], [32, 2], [64, 0.5], [64, 1.], [64, 2.], [128, 0.5], [128, 1.], [128, 2.]]\n",
    "\n",
    "TRAIN_BS = 1\n",
    "\n",
    "trainset = DataSet(fold=\"train\", transform=train_transform, max_img = 100, boxParams = boxParams, maxDim = 300)\n",
    "\n",
    "print(trainset.data.shape)\n",
    "\n",
    "trainLoader = torch.utils.data.DataLoader(trainset, batch_size=TRAIN_BS,\n",
    "                                          shuffle=True, num_workers=0)\n",
    "print(\"Ttrain set size: \"+str(len(trainset)))\n",
    "\n",
    "valset = DataSet(fold=\"valid\", transform=train_transform, max_img = 20, boxParams = boxParams)\n",
    "\n",
    "valLoader = torch.utils.data.DataLoader(valset, batch_size=TRAIN_BS,\n",
    "                                          shuffle=True, num_workers=0)\n",
    "print(\"Val set size: \"+str(len(valset)))\n",
    "\n",
    "print('Loading Dataset took: ', time.time() - st_time, ' seconds')"
   ]
  },
  {
   "cell_type": "code",
   "execution_count": null,
   "metadata": {},
   "outputs": [
    {
     "name": "stdout",
     "output_type": "stream",
     "text": [
      "Epoch  0  : Time required ->  9.295088529586792\n",
      "Epoch  1  : Time required ->  9.21955394744873\n",
      "Epoch  2  : Time required ->  9.211281061172485\n",
      "Epoch  3  : Time required ->  9.302090406417847\n",
      "Epoch  4  : Time required ->  9.244795560836792\n",
      "Epoch  5  : Time required ->  9.321896076202393\n"
     ]
    }
   ],
   "source": [
    "from model import *\n",
    "IS_GPU = False\n",
    "\n",
    "#boxParams = torch.tensor([[8, 0.5], [8, 1.], [8, 2], [16, 0.5], [16, 1.], [16, 2.], [32, 0.5], [32, 1.], [32, 2.]])\n",
    "boxParams = torch.tensor(boxParams)\n",
    "\n",
    "rcnn = PreTrainedResNet(feature_extracting = True, model = \"resnet18\")\n",
    "\n",
    "#rcnn.load('Full_200')\n",
    "\n",
    "\n",
    "if IS_GPU:\n",
    "    rcnn = PreTrainedResNet(feature_extracting = True, model = \"resnet18\", IS_GPU = True)\n",
    "    rcnn = rcnn.cuda()\n",
    "\n",
    "rcnn.train(trainLoader, valLoader, boxParams, NUM_EPOCHS = 20, class_start = 20)"
   ]
  },
  {
   "cell_type": "code",
   "execution_count": null,
   "metadata": {},
   "outputs": [],
   "source": [
    "rcnn.train(trainLoader, valLoader, boxParams, NUM_EPOCHS = 50, class_start = -1)"
   ]
  },
  {
   "cell_type": "code",
   "execution_count": null,
   "metadata": {},
   "outputs": [],
   "source": [
    "plt.plot(rcnn.valLoss)\n",
    "plt.xlabel(\"Epoch\")\n",
    "plt.ylabel(\"Loss\")\n",
    "plt.title(\"Validation Set Loss\")"
   ]
  },
  {
   "cell_type": "code",
   "execution_count": null,
   "metadata": {},
   "outputs": [],
   "source": [
    "plt.plot(rcnn.trainLoss)\n",
    "plt.xlabel(\"Epoch\")\n",
    "plt.ylabel(\"Loss\")\n",
    "plt.title(\"Train Set Loss\")"
   ]
  },
  {
   "cell_type": "code",
   "execution_count": null,
   "metadata": {},
   "outputs": [],
   "source": [
    "plt.plot(rcnn.fastLoss)\n",
    "plt.xlabel(\"Epoch\")\n",
    "plt.ylabel(\"Loss\")\n",
    "plt.title(\"fast RCNN Loss\")"
   ]
  },
  {
   "cell_type": "code",
   "execution_count": null,
   "metadata": {},
   "outputs": [],
   "source": [
    "plt.plot(rcnn.rpnLoss)\n",
    "plt.xlabel(\"Epoch\")\n",
    "plt.ylabel(\"Loss\")\n",
    "plt.title(\"RPN Loss\")"
   ]
  },
  {
   "cell_type": "code",
   "execution_count": null,
   "metadata": {},
   "outputs": [],
   "source": [
    "it = iter(trainLoader)\n",
    "img, target = it.next()\n",
    "rcnn.predict(img, cutoff = 0.5, boxParams = boxParams, dummyLabel = True)"
   ]
  },
  {
   "cell_type": "code",
   "execution_count": null,
   "metadata": {},
   "outputs": [],
   "source": [
    "rcnn.predict(img, cutoff = 0.8, boxParams = boxParams, dummyLabel = True)"
   ]
  },
  {
   "cell_type": "code",
   "execution_count": null,
   "metadata": {},
   "outputs": [],
   "source": [
    "rcnn.predict(img, cutoff = 0.9, boxParams = boxParams, secondLabel = True)"
   ]
  },
  {
   "cell_type": "code",
   "execution_count": null,
   "metadata": {},
   "outputs": [],
   "source": [
    "rcnn.predict(img, cutoff = 0.7, boxParams = boxParams, dummyLabel = False)"
   ]
  },
  {
   "cell_type": "code",
   "execution_count": null,
   "metadata": {},
   "outputs": [],
   "source": [
    "rcnn.save('Full_200')"
   ]
  },
  {
   "cell_type": "code",
   "execution_count": null,
   "metadata": {},
   "outputs": [],
   "source": []
  }
 ],
 "metadata": {
  "kernelspec": {
   "display_name": "Python 3",
   "language": "python",
   "name": "python3"
  },
  "language_info": {
   "codemirror_mode": {
    "name": "ipython",
    "version": 3
   },
   "file_extension": ".py",
   "mimetype": "text/x-python",
   "name": "python",
   "nbconvert_exporter": "python",
   "pygments_lexer": "ipython3",
   "version": "3.6.6"
  }
 },
 "nbformat": 4,
 "nbformat_minor": 4
}
